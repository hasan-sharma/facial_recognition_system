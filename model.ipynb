{
  "nbformat": 4,
  "nbformat_minor": 0,
  "metadata": {
    "colab": {
      "provenance": []
    },
    "kernelspec": {
      "name": "python3",
      "display_name": "Python 3"
    },
    "language_info": {
      "name": "python"
    },
    "widgets": {
      "application/vnd.jupyter.widget-state+json": {
        "5dbdcc2f13524b39884874537cc56b85": {
          "model_module": "@jupyter-widgets/controls",
          "model_name": "HBoxModel",
          "model_module_version": "1.5.0",
          "state": {
            "_dom_classes": [],
            "_model_module": "@jupyter-widgets/controls",
            "_model_module_version": "1.5.0",
            "_model_name": "HBoxModel",
            "_view_count": null,
            "_view_module": "@jupyter-widgets/controls",
            "_view_module_version": "1.5.0",
            "_view_name": "HBoxView",
            "box_style": "",
            "children": [
              "IPY_MODEL_01076732c1774f15a9072e7fafc99d5b",
              "IPY_MODEL_62652d776c584d5b99667865bd1f336e",
              "IPY_MODEL_a41377b517ab4a789aaa8af4b8f98802"
            ],
            "layout": "IPY_MODEL_410065d2b4de4ac08e14d74d13641243"
          }
        },
        "01076732c1774f15a9072e7fafc99d5b": {
          "model_module": "@jupyter-widgets/controls",
          "model_name": "HTMLModel",
          "model_module_version": "1.5.0",
          "state": {
            "_dom_classes": [],
            "_model_module": "@jupyter-widgets/controls",
            "_model_module_version": "1.5.0",
            "_model_name": "HTMLModel",
            "_view_count": null,
            "_view_module": "@jupyter-widgets/controls",
            "_view_module_version": "1.5.0",
            "_view_name": "HTMLView",
            "description": "",
            "description_tooltip": null,
            "layout": "IPY_MODEL_d5aa3e42dd5e44ef80e4eb5262e5692a",
            "placeholder": "​",
            "style": "IPY_MODEL_eb6f976052bc40fb82de1b6125000959",
            "value": "100%"
          }
        },
        "62652d776c584d5b99667865bd1f336e": {
          "model_module": "@jupyter-widgets/controls",
          "model_name": "FloatProgressModel",
          "model_module_version": "1.5.0",
          "state": {
            "_dom_classes": [],
            "_model_module": "@jupyter-widgets/controls",
            "_model_module_version": "1.5.0",
            "_model_name": "FloatProgressModel",
            "_view_count": null,
            "_view_module": "@jupyter-widgets/controls",
            "_view_module_version": "1.5.0",
            "_view_name": "ProgressView",
            "bar_style": "success",
            "description": "",
            "description_tooltip": null,
            "layout": "IPY_MODEL_1634b5c11cb34d2aab7fbbe78f4bc280",
            "max": 111898327,
            "min": 0,
            "orientation": "horizontal",
            "style": "IPY_MODEL_a9981d3c30fd4de6904ddab909fbfb75",
            "value": 111898327
          }
        },
        "a41377b517ab4a789aaa8af4b8f98802": {
          "model_module": "@jupyter-widgets/controls",
          "model_name": "HTMLModel",
          "model_module_version": "1.5.0",
          "state": {
            "_dom_classes": [],
            "_model_module": "@jupyter-widgets/controls",
            "_model_module_version": "1.5.0",
            "_model_name": "HTMLModel",
            "_view_count": null,
            "_view_module": "@jupyter-widgets/controls",
            "_view_module_version": "1.5.0",
            "_view_name": "HTMLView",
            "description": "",
            "description_tooltip": null,
            "layout": "IPY_MODEL_c9de2bd4a8a840ff8ccb28df63fe8711",
            "placeholder": "​",
            "style": "IPY_MODEL_207519f86dc4489cb66b5205f55c5fc1",
            "value": " 107M/107M [00:03&lt;00:00, 49.8MB/s]"
          }
        },
        "410065d2b4de4ac08e14d74d13641243": {
          "model_module": "@jupyter-widgets/base",
          "model_name": "LayoutModel",
          "model_module_version": "1.2.0",
          "state": {
            "_model_module": "@jupyter-widgets/base",
            "_model_module_version": "1.2.0",
            "_model_name": "LayoutModel",
            "_view_count": null,
            "_view_module": "@jupyter-widgets/base",
            "_view_module_version": "1.2.0",
            "_view_name": "LayoutView",
            "align_content": null,
            "align_items": null,
            "align_self": null,
            "border": null,
            "bottom": null,
            "display": null,
            "flex": null,
            "flex_flow": null,
            "grid_area": null,
            "grid_auto_columns": null,
            "grid_auto_flow": null,
            "grid_auto_rows": null,
            "grid_column": null,
            "grid_gap": null,
            "grid_row": null,
            "grid_template_areas": null,
            "grid_template_columns": null,
            "grid_template_rows": null,
            "height": null,
            "justify_content": null,
            "justify_items": null,
            "left": null,
            "margin": null,
            "max_height": null,
            "max_width": null,
            "min_height": null,
            "min_width": null,
            "object_fit": null,
            "object_position": null,
            "order": null,
            "overflow": null,
            "overflow_x": null,
            "overflow_y": null,
            "padding": null,
            "right": null,
            "top": null,
            "visibility": null,
            "width": null
          }
        },
        "d5aa3e42dd5e44ef80e4eb5262e5692a": {
          "model_module": "@jupyter-widgets/base",
          "model_name": "LayoutModel",
          "model_module_version": "1.2.0",
          "state": {
            "_model_module": "@jupyter-widgets/base",
            "_model_module_version": "1.2.0",
            "_model_name": "LayoutModel",
            "_view_count": null,
            "_view_module": "@jupyter-widgets/base",
            "_view_module_version": "1.2.0",
            "_view_name": "LayoutView",
            "align_content": null,
            "align_items": null,
            "align_self": null,
            "border": null,
            "bottom": null,
            "display": null,
            "flex": null,
            "flex_flow": null,
            "grid_area": null,
            "grid_auto_columns": null,
            "grid_auto_flow": null,
            "grid_auto_rows": null,
            "grid_column": null,
            "grid_gap": null,
            "grid_row": null,
            "grid_template_areas": null,
            "grid_template_columns": null,
            "grid_template_rows": null,
            "height": null,
            "justify_content": null,
            "justify_items": null,
            "left": null,
            "margin": null,
            "max_height": null,
            "max_width": null,
            "min_height": null,
            "min_width": null,
            "object_fit": null,
            "object_position": null,
            "order": null,
            "overflow": null,
            "overflow_x": null,
            "overflow_y": null,
            "padding": null,
            "right": null,
            "top": null,
            "visibility": null,
            "width": null
          }
        },
        "eb6f976052bc40fb82de1b6125000959": {
          "model_module": "@jupyter-widgets/controls",
          "model_name": "DescriptionStyleModel",
          "model_module_version": "1.5.0",
          "state": {
            "_model_module": "@jupyter-widgets/controls",
            "_model_module_version": "1.5.0",
            "_model_name": "DescriptionStyleModel",
            "_view_count": null,
            "_view_module": "@jupyter-widgets/base",
            "_view_module_version": "1.2.0",
            "_view_name": "StyleView",
            "description_width": ""
          }
        },
        "1634b5c11cb34d2aab7fbbe78f4bc280": {
          "model_module": "@jupyter-widgets/base",
          "model_name": "LayoutModel",
          "model_module_version": "1.2.0",
          "state": {
            "_model_module": "@jupyter-widgets/base",
            "_model_module_version": "1.2.0",
            "_model_name": "LayoutModel",
            "_view_count": null,
            "_view_module": "@jupyter-widgets/base",
            "_view_module_version": "1.2.0",
            "_view_name": "LayoutView",
            "align_content": null,
            "align_items": null,
            "align_self": null,
            "border": null,
            "bottom": null,
            "display": null,
            "flex": null,
            "flex_flow": null,
            "grid_area": null,
            "grid_auto_columns": null,
            "grid_auto_flow": null,
            "grid_auto_rows": null,
            "grid_column": null,
            "grid_gap": null,
            "grid_row": null,
            "grid_template_areas": null,
            "grid_template_columns": null,
            "grid_template_rows": null,
            "height": null,
            "justify_content": null,
            "justify_items": null,
            "left": null,
            "margin": null,
            "max_height": null,
            "max_width": null,
            "min_height": null,
            "min_width": null,
            "object_fit": null,
            "object_position": null,
            "order": null,
            "overflow": null,
            "overflow_x": null,
            "overflow_y": null,
            "padding": null,
            "right": null,
            "top": null,
            "visibility": null,
            "width": null
          }
        },
        "a9981d3c30fd4de6904ddab909fbfb75": {
          "model_module": "@jupyter-widgets/controls",
          "model_name": "ProgressStyleModel",
          "model_module_version": "1.5.0",
          "state": {
            "_model_module": "@jupyter-widgets/controls",
            "_model_module_version": "1.5.0",
            "_model_name": "ProgressStyleModel",
            "_view_count": null,
            "_view_module": "@jupyter-widgets/base",
            "_view_module_version": "1.2.0",
            "_view_name": "StyleView",
            "bar_color": null,
            "description_width": ""
          }
        },
        "c9de2bd4a8a840ff8ccb28df63fe8711": {
          "model_module": "@jupyter-widgets/base",
          "model_name": "LayoutModel",
          "model_module_version": "1.2.0",
          "state": {
            "_model_module": "@jupyter-widgets/base",
            "_model_module_version": "1.2.0",
            "_model_name": "LayoutModel",
            "_view_count": null,
            "_view_module": "@jupyter-widgets/base",
            "_view_module_version": "1.2.0",
            "_view_name": "LayoutView",
            "align_content": null,
            "align_items": null,
            "align_self": null,
            "border": null,
            "bottom": null,
            "display": null,
            "flex": null,
            "flex_flow": null,
            "grid_area": null,
            "grid_auto_columns": null,
            "grid_auto_flow": null,
            "grid_auto_rows": null,
            "grid_column": null,
            "grid_gap": null,
            "grid_row": null,
            "grid_template_areas": null,
            "grid_template_columns": null,
            "grid_template_rows": null,
            "height": null,
            "justify_content": null,
            "justify_items": null,
            "left": null,
            "margin": null,
            "max_height": null,
            "max_width": null,
            "min_height": null,
            "min_width": null,
            "object_fit": null,
            "object_position": null,
            "order": null,
            "overflow": null,
            "overflow_x": null,
            "overflow_y": null,
            "padding": null,
            "right": null,
            "top": null,
            "visibility": null,
            "width": null
          }
        },
        "207519f86dc4489cb66b5205f55c5fc1": {
          "model_module": "@jupyter-widgets/controls",
          "model_name": "DescriptionStyleModel",
          "model_module_version": "1.5.0",
          "state": {
            "_model_module": "@jupyter-widgets/controls",
            "_model_module_version": "1.5.0",
            "_model_name": "DescriptionStyleModel",
            "_view_count": null,
            "_view_module": "@jupyter-widgets/base",
            "_view_module_version": "1.2.0",
            "_view_name": "StyleView",
            "description_width": ""
          }
        }
      }
    }
  },
  "cells": [
    {
      "cell_type": "markdown",
      "source": [
        "# Importing necessary libraries\n",
        "\n"
      ],
      "metadata": {
        "id": "Mg51zfMbXGQM"
      }
    },
    {
      "cell_type": "code",
      "source": [],
      "metadata": {
        "id": "mRGdKbOCXF1d"
      },
      "execution_count": null,
      "outputs": []
    },
    {
      "cell_type": "code",
      "execution_count": null,
      "metadata": {
        "colab": {
          "base_uri": "https://localhost:8080/"
        },
        "id": "G8zA6IzLw-G-",
        "outputId": "47a7c9a2-9d6c-431c-b125-a907af311b89"
      },
      "outputs": [
        {
          "output_type": "stream",
          "name": "stdout",
          "text": [
            "2.5.1+cu124\n"
          ]
        }
      ],
      "source": [
        "import torch\n",
        "print(torch.__version__)"
      ]
    },
    {
      "cell_type": "code",
      "source": [
        "# System Libraries\n",
        "import zipfile\n",
        "import os\n",
        "\n",
        "# Data Manipulation and Image Processing Libraries\n",
        "import pandas as pd\n",
        "import numpy as np\n",
        "import cv2\n",
        "from tqdm import tqdm\n",
        "\n",
        "# Face Detection and Recognition Libraries\n",
        "!pip install mtcnn\n",
        "from mtcnn import MTCNN  # For face detection\n",
        "\n",
        "# TensorFlow / Keras for model usage\n",
        "import tensorflow as tf\n",
        "\n",
        "# To display images inline in Colab\n",
        "import matplotlib.pyplot as plt\n",
        "from PIL import Image\n"
      ],
      "metadata": {
        "colab": {
          "base_uri": "https://localhost:8080/"
        },
        "id": "06AUOOJCxPXO",
        "outputId": "c1822149-d896-4c47-b985-e5e0288ba6f4"
      },
      "execution_count": null,
      "outputs": [
        {
          "output_type": "stream",
          "name": "stdout",
          "text": [
            "Collecting mtcnn\n",
            "  Downloading mtcnn-1.0.0-py3-none-any.whl.metadata (5.8 kB)\n",
            "Requirement already satisfied: joblib>=1.4.2 in /usr/local/lib/python3.11/dist-packages (from mtcnn) (1.4.2)\n",
            "Collecting lz4>=4.3.3 (from mtcnn)\n",
            "  Downloading lz4-4.4.3-cp311-cp311-manylinux_2_17_x86_64.manylinux2014_x86_64.whl.metadata (3.8 kB)\n",
            "Downloading mtcnn-1.0.0-py3-none-any.whl (1.9 MB)\n",
            "\u001b[2K   \u001b[90m━━━━━━━━━━━━━━━━━━━━━━━━━━━━━━━━━━━━━━━━\u001b[0m \u001b[32m1.9/1.9 MB\u001b[0m \u001b[31m34.7 MB/s\u001b[0m eta \u001b[36m0:00:00\u001b[0m\n",
            "\u001b[?25hDownloading lz4-4.4.3-cp311-cp311-manylinux_2_17_x86_64.manylinux2014_x86_64.whl (1.3 MB)\n",
            "\u001b[2K   \u001b[90m━━━━━━━━━━━━━━━━━━━━━━━━━━━━━━━━━━━━━━━━\u001b[0m \u001b[32m1.3/1.3 MB\u001b[0m \u001b[31m39.5 MB/s\u001b[0m eta \u001b[36m0:00:00\u001b[0m\n",
            "\u001b[?25hInstalling collected packages: lz4, mtcnn\n",
            "Successfully installed lz4-4.4.3 mtcnn-1.0.0\n"
          ]
        }
      ]
    },
    {
      "cell_type": "markdown",
      "source": [
        "# Mounting Drive and loading the Dataset"
      ],
      "metadata": {
        "id": "dMuGHjbQXR0m"
      }
    },
    {
      "cell_type": "code",
      "source": [
        "from google.colab import drive\n",
        "drive.mount('/content/drive')\n"
      ],
      "metadata": {
        "colab": {
          "base_uri": "https://localhost:8080/"
        },
        "id": "BZd1AwzPxgfz",
        "outputId": "4d166cea-c4fd-4496-b10e-3642a4b66f5b"
      },
      "execution_count": null,
      "outputs": [
        {
          "output_type": "stream",
          "name": "stdout",
          "text": [
            "Mounted at /content/drive\n"
          ]
        }
      ]
    },
    {
      "cell_type": "code",
      "source": [
        "import zipfile\n",
        "import os\n",
        "import pandas as pd\n",
        "\n",
        "# Path to the zipped file on Google Drive\n",
        "zip_path = '/content/drive/MyDrive/face_data.zip'\n",
        "dataset_dir = '/content/dataset'  # Unzip destination\n",
        "\n",
        "# Unzip the dataset\n",
        "with zipfile.ZipFile(zip_path, 'r') as zip_ref:\n",
        "    zip_ref.extractall(dataset_dir)\n",
        "\n",
        "print(f\"Dataset extracted to {dataset_dir}\")\n"
      ],
      "metadata": {
        "colab": {
          "base_uri": "https://localhost:8080/"
        },
        "id": "G3S1CYLVxkHh",
        "outputId": "f6b48eca-dc71-4227-c049-bb5a87c07ee2"
      },
      "execution_count": null,
      "outputs": [
        {
          "output_type": "stream",
          "name": "stdout",
          "text": [
            "Dataset extracted to /content/dataset\n"
          ]
        }
      ]
    },
    {
      "cell_type": "markdown",
      "source": [
        "# Creating Labels for each images"
      ],
      "metadata": {
        "id": "hKC8yUy6XbaC"
      }
    },
    {
      "cell_type": "code",
      "source": [
        "import os\n",
        "import pandas as pd\n",
        "\n",
        "# Path to the dataset folder\n",
        "dataset_folder = '/content/dataset/face_data'\n",
        "\n",
        "# Initialize a list to store image file names and their corresponding labels\n",
        "image_data = []\n",
        "\n",
        "# Loop through the dataset folder to gather image files and extract labels\n",
        "for subdir, _, files in os.walk(dataset_folder):\n",
        "    for file in files:\n",
        "        # Make sure it's an image file (you can add more image extensions if needed)\n",
        "        if file.lower().endswith(('.png', '.jpg', '.jpeg')):\n",
        "\n",
        "            # Option 1: Extract label before the last underscore (e.g., 'john_doe_01.jpg' -> 'john_doe')\n",
        "            label = '_'.join(file.split('_')[:-1])\n",
        "\n",
        "            # Option 2: If label is before the first underscore (e.g., 'john_01.jpg' -> 'john')\n",
        "            if not label:  # If the first method didn't work\n",
        "                label = file.split('_')[0]\n",
        "\n",
        "            # Option 3: If label is before a dash (e.g., 'john-01.jpg' -> 'john')\n",
        "            if not label:\n",
        "                label = file.split('-')[0]\n",
        "\n",
        "            # Option 4: If the label is the entire filename without the extension (e.g., 'john.jpg' -> 'john')\n",
        "            if not label:\n",
        "                label = os.path.splitext(file)[0]\n",
        "\n",
        "            # Option 5: If labels are stored as folder names (e.g., 'dataset_folder/john/image1.jpg')\n",
        "            if not label:\n",
        "                label = os.path.basename(subdir)\n",
        "\n",
        "            # Store the image file name and its label\n",
        "            image_data.append([file, label])\n",
        "\n",
        "# Create a DataFrame from the extracted image data\n",
        "image_df = pd.DataFrame(image_data, columns=['id', 'label'])\n",
        "\n",
        "# Display the DataFrame to verify\n",
        "print(image_df.head())\n"
      ],
      "metadata": {
        "colab": {
          "base_uri": "https://localhost:8080/"
        },
        "id": "lFjWIalfygTU",
        "outputId": "85a2baea-ff0e-434c-a89a-fadc6f73215f"
      },
      "execution_count": null,
      "outputs": [
        {
          "output_type": "stream",
          "name": "stdout",
          "text": [
            "                      id                  label\n",
            "0  Harsh Khanal  (4).jpg  Harsh Khanal  (4).jpg\n",
            "1  Harsh Khanal  (5).jpg  Harsh Khanal  (5).jpg\n",
            "2  Harsh Khanal  (6).jpg  Harsh Khanal  (6).jpg\n",
            "3  Harsh Khanal  (2).jpg  Harsh Khanal  (2).jpg\n",
            "4  Harsh Khanal  (7).jpg  Harsh Khanal  (7).jpg\n"
          ]
        }
      ]
    },
    {
      "cell_type": "code",
      "source": [
        "image_df['label'] = image_df['id'].str.replace(r'\\s\\(\\d+\\)', '', regex=True)  # Remove numbers in parentheses\n",
        "image_df['label'] = image_df['label'].str.replace(r'\\.\\w+$', '', regex=True)"
      ],
      "metadata": {
        "id": "oOYdOmC9y5ok"
      },
      "execution_count": null,
      "outputs": []
    },
    {
      "cell_type": "code",
      "source": [
        "image_df[\"label\"]"
      ],
      "metadata": {
        "id": "EMzmZE1O5tKF",
        "colab": {
          "base_uri": "https://localhost:8080/",
          "height": 458
        },
        "outputId": "1b704835-6099-4fd7-a9de-a20d3fd05733"
      },
      "execution_count": null,
      "outputs": [
        {
          "output_type": "execute_result",
          "data": {
            "text/plain": [
              "0      Harsh Khanal \n",
              "1      Harsh Khanal \n",
              "2      Harsh Khanal \n",
              "3      Harsh Khanal \n",
              "4      Harsh Khanal \n",
              "           ...      \n",
              "166    Kumar Vishal \n",
              "167    Kumar Vishal \n",
              "168    Kumar Vishal \n",
              "169    Kumar Vishal \n",
              "170    Kumar Vishal \n",
              "Name: label, Length: 171, dtype: object"
            ],
            "text/html": [
              "<div>\n",
              "<style scoped>\n",
              "    .dataframe tbody tr th:only-of-type {\n",
              "        vertical-align: middle;\n",
              "    }\n",
              "\n",
              "    .dataframe tbody tr th {\n",
              "        vertical-align: top;\n",
              "    }\n",
              "\n",
              "    .dataframe thead th {\n",
              "        text-align: right;\n",
              "    }\n",
              "</style>\n",
              "<table border=\"1\" class=\"dataframe\">\n",
              "  <thead>\n",
              "    <tr style=\"text-align: right;\">\n",
              "      <th></th>\n",
              "      <th>label</th>\n",
              "    </tr>\n",
              "  </thead>\n",
              "  <tbody>\n",
              "    <tr>\n",
              "      <th>0</th>\n",
              "      <td>Harsh Khanal</td>\n",
              "    </tr>\n",
              "    <tr>\n",
              "      <th>1</th>\n",
              "      <td>Harsh Khanal</td>\n",
              "    </tr>\n",
              "    <tr>\n",
              "      <th>2</th>\n",
              "      <td>Harsh Khanal</td>\n",
              "    </tr>\n",
              "    <tr>\n",
              "      <th>3</th>\n",
              "      <td>Harsh Khanal</td>\n",
              "    </tr>\n",
              "    <tr>\n",
              "      <th>4</th>\n",
              "      <td>Harsh Khanal</td>\n",
              "    </tr>\n",
              "    <tr>\n",
              "      <th>...</th>\n",
              "      <td>...</td>\n",
              "    </tr>\n",
              "    <tr>\n",
              "      <th>166</th>\n",
              "      <td>Kumar Vishal</td>\n",
              "    </tr>\n",
              "    <tr>\n",
              "      <th>167</th>\n",
              "      <td>Kumar Vishal</td>\n",
              "    </tr>\n",
              "    <tr>\n",
              "      <th>168</th>\n",
              "      <td>Kumar Vishal</td>\n",
              "    </tr>\n",
              "    <tr>\n",
              "      <th>169</th>\n",
              "      <td>Kumar Vishal</td>\n",
              "    </tr>\n",
              "    <tr>\n",
              "      <th>170</th>\n",
              "      <td>Kumar Vishal</td>\n",
              "    </tr>\n",
              "  </tbody>\n",
              "</table>\n",
              "<p>171 rows × 1 columns</p>\n",
              "</div><br><label><b>dtype:</b> object</label>"
            ]
          },
          "metadata": {},
          "execution_count": 7
        }
      ]
    },
    {
      "cell_type": "code",
      "source": [
        "image_df"
      ],
      "metadata": {
        "colab": {
          "base_uri": "https://localhost:8080/",
          "height": 423
        },
        "id": "8Amhl_JmAVix",
        "outputId": "4ab513da-99ef-45ce-89ed-6a260dc96170"
      },
      "execution_count": null,
      "outputs": [
        {
          "output_type": "execute_result",
          "data": {
            "text/plain": [
              "                        id          label\n",
              "0    Harsh Khanal  (4).jpg  Harsh Khanal \n",
              "1    Harsh Khanal  (5).jpg  Harsh Khanal \n",
              "2    Harsh Khanal  (6).jpg  Harsh Khanal \n",
              "3    Harsh Khanal  (2).jpg  Harsh Khanal \n",
              "4    Harsh Khanal  (7).jpg  Harsh Khanal \n",
              "..                     ...            ...\n",
              "166  Kumar Vishal  (5).jpg  Kumar Vishal \n",
              "167  Kumar Vishal  (1).jpg  Kumar Vishal \n",
              "168  Kumar Vishal  (6).jpg  Kumar Vishal \n",
              "169  Kumar Vishal  (3).jpg  Kumar Vishal \n",
              "170  Kumar Vishal  (2).jpg  Kumar Vishal \n",
              "\n",
              "[171 rows x 2 columns]"
            ],
            "text/html": [
              "\n",
              "  <div id=\"df-1dc266b5-1a0b-4df3-9653-ff7445ba3881\" class=\"colab-df-container\">\n",
              "    <div>\n",
              "<style scoped>\n",
              "    .dataframe tbody tr th:only-of-type {\n",
              "        vertical-align: middle;\n",
              "    }\n",
              "\n",
              "    .dataframe tbody tr th {\n",
              "        vertical-align: top;\n",
              "    }\n",
              "\n",
              "    .dataframe thead th {\n",
              "        text-align: right;\n",
              "    }\n",
              "</style>\n",
              "<table border=\"1\" class=\"dataframe\">\n",
              "  <thead>\n",
              "    <tr style=\"text-align: right;\">\n",
              "      <th></th>\n",
              "      <th>id</th>\n",
              "      <th>label</th>\n",
              "    </tr>\n",
              "  </thead>\n",
              "  <tbody>\n",
              "    <tr>\n",
              "      <th>0</th>\n",
              "      <td>Harsh Khanal  (4).jpg</td>\n",
              "      <td>Harsh Khanal</td>\n",
              "    </tr>\n",
              "    <tr>\n",
              "      <th>1</th>\n",
              "      <td>Harsh Khanal  (5).jpg</td>\n",
              "      <td>Harsh Khanal</td>\n",
              "    </tr>\n",
              "    <tr>\n",
              "      <th>2</th>\n",
              "      <td>Harsh Khanal  (6).jpg</td>\n",
              "      <td>Harsh Khanal</td>\n",
              "    </tr>\n",
              "    <tr>\n",
              "      <th>3</th>\n",
              "      <td>Harsh Khanal  (2).jpg</td>\n",
              "      <td>Harsh Khanal</td>\n",
              "    </tr>\n",
              "    <tr>\n",
              "      <th>4</th>\n",
              "      <td>Harsh Khanal  (7).jpg</td>\n",
              "      <td>Harsh Khanal</td>\n",
              "    </tr>\n",
              "    <tr>\n",
              "      <th>...</th>\n",
              "      <td>...</td>\n",
              "      <td>...</td>\n",
              "    </tr>\n",
              "    <tr>\n",
              "      <th>166</th>\n",
              "      <td>Kumar Vishal  (5).jpg</td>\n",
              "      <td>Kumar Vishal</td>\n",
              "    </tr>\n",
              "    <tr>\n",
              "      <th>167</th>\n",
              "      <td>Kumar Vishal  (1).jpg</td>\n",
              "      <td>Kumar Vishal</td>\n",
              "    </tr>\n",
              "    <tr>\n",
              "      <th>168</th>\n",
              "      <td>Kumar Vishal  (6).jpg</td>\n",
              "      <td>Kumar Vishal</td>\n",
              "    </tr>\n",
              "    <tr>\n",
              "      <th>169</th>\n",
              "      <td>Kumar Vishal  (3).jpg</td>\n",
              "      <td>Kumar Vishal</td>\n",
              "    </tr>\n",
              "    <tr>\n",
              "      <th>170</th>\n",
              "      <td>Kumar Vishal  (2).jpg</td>\n",
              "      <td>Kumar Vishal</td>\n",
              "    </tr>\n",
              "  </tbody>\n",
              "</table>\n",
              "<p>171 rows × 2 columns</p>\n",
              "</div>\n",
              "    <div class=\"colab-df-buttons\">\n",
              "\n",
              "  <div class=\"colab-df-container\">\n",
              "    <button class=\"colab-df-convert\" onclick=\"convertToInteractive('df-1dc266b5-1a0b-4df3-9653-ff7445ba3881')\"\n",
              "            title=\"Convert this dataframe to an interactive table.\"\n",
              "            style=\"display:none;\">\n",
              "\n",
              "  <svg xmlns=\"http://www.w3.org/2000/svg\" height=\"24px\" viewBox=\"0 -960 960 960\">\n",
              "    <path d=\"M120-120v-720h720v720H120Zm60-500h600v-160H180v160Zm220 220h160v-160H400v160Zm0 220h160v-160H400v160ZM180-400h160v-160H180v160Zm440 0h160v-160H620v160ZM180-180h160v-160H180v160Zm440 0h160v-160H620v160Z\"/>\n",
              "  </svg>\n",
              "    </button>\n",
              "\n",
              "  <style>\n",
              "    .colab-df-container {\n",
              "      display:flex;\n",
              "      gap: 12px;\n",
              "    }\n",
              "\n",
              "    .colab-df-convert {\n",
              "      background-color: #E8F0FE;\n",
              "      border: none;\n",
              "      border-radius: 50%;\n",
              "      cursor: pointer;\n",
              "      display: none;\n",
              "      fill: #1967D2;\n",
              "      height: 32px;\n",
              "      padding: 0 0 0 0;\n",
              "      width: 32px;\n",
              "    }\n",
              "\n",
              "    .colab-df-convert:hover {\n",
              "      background-color: #E2EBFA;\n",
              "      box-shadow: 0px 1px 2px rgba(60, 64, 67, 0.3), 0px 1px 3px 1px rgba(60, 64, 67, 0.15);\n",
              "      fill: #174EA6;\n",
              "    }\n",
              "\n",
              "    .colab-df-buttons div {\n",
              "      margin-bottom: 4px;\n",
              "    }\n",
              "\n",
              "    [theme=dark] .colab-df-convert {\n",
              "      background-color: #3B4455;\n",
              "      fill: #D2E3FC;\n",
              "    }\n",
              "\n",
              "    [theme=dark] .colab-df-convert:hover {\n",
              "      background-color: #434B5C;\n",
              "      box-shadow: 0px 1px 3px 1px rgba(0, 0, 0, 0.15);\n",
              "      filter: drop-shadow(0px 1px 2px rgba(0, 0, 0, 0.3));\n",
              "      fill: #FFFFFF;\n",
              "    }\n",
              "  </style>\n",
              "\n",
              "    <script>\n",
              "      const buttonEl =\n",
              "        document.querySelector('#df-1dc266b5-1a0b-4df3-9653-ff7445ba3881 button.colab-df-convert');\n",
              "      buttonEl.style.display =\n",
              "        google.colab.kernel.accessAllowed ? 'block' : 'none';\n",
              "\n",
              "      async function convertToInteractive(key) {\n",
              "        const element = document.querySelector('#df-1dc266b5-1a0b-4df3-9653-ff7445ba3881');\n",
              "        const dataTable =\n",
              "          await google.colab.kernel.invokeFunction('convertToInteractive',\n",
              "                                                    [key], {});\n",
              "        if (!dataTable) return;\n",
              "\n",
              "        const docLinkHtml = 'Like what you see? Visit the ' +\n",
              "          '<a target=\"_blank\" href=https://colab.research.google.com/notebooks/data_table.ipynb>data table notebook</a>'\n",
              "          + ' to learn more about interactive tables.';\n",
              "        element.innerHTML = '';\n",
              "        dataTable['output_type'] = 'display_data';\n",
              "        await google.colab.output.renderOutput(dataTable, element);\n",
              "        const docLink = document.createElement('div');\n",
              "        docLink.innerHTML = docLinkHtml;\n",
              "        element.appendChild(docLink);\n",
              "      }\n",
              "    </script>\n",
              "  </div>\n",
              "\n",
              "\n",
              "<div id=\"df-4ca369f3-1c2e-4023-b847-c8d282638010\">\n",
              "  <button class=\"colab-df-quickchart\" onclick=\"quickchart('df-4ca369f3-1c2e-4023-b847-c8d282638010')\"\n",
              "            title=\"Suggest charts\"\n",
              "            style=\"display:none;\">\n",
              "\n",
              "<svg xmlns=\"http://www.w3.org/2000/svg\" height=\"24px\"viewBox=\"0 0 24 24\"\n",
              "     width=\"24px\">\n",
              "    <g>\n",
              "        <path d=\"M19 3H5c-1.1 0-2 .9-2 2v14c0 1.1.9 2 2 2h14c1.1 0 2-.9 2-2V5c0-1.1-.9-2-2-2zM9 17H7v-7h2v7zm4 0h-2V7h2v10zm4 0h-2v-4h2v4z\"/>\n",
              "    </g>\n",
              "</svg>\n",
              "  </button>\n",
              "\n",
              "<style>\n",
              "  .colab-df-quickchart {\n",
              "      --bg-color: #E8F0FE;\n",
              "      --fill-color: #1967D2;\n",
              "      --hover-bg-color: #E2EBFA;\n",
              "      --hover-fill-color: #174EA6;\n",
              "      --disabled-fill-color: #AAA;\n",
              "      --disabled-bg-color: #DDD;\n",
              "  }\n",
              "\n",
              "  [theme=dark] .colab-df-quickchart {\n",
              "      --bg-color: #3B4455;\n",
              "      --fill-color: #D2E3FC;\n",
              "      --hover-bg-color: #434B5C;\n",
              "      --hover-fill-color: #FFFFFF;\n",
              "      --disabled-bg-color: #3B4455;\n",
              "      --disabled-fill-color: #666;\n",
              "  }\n",
              "\n",
              "  .colab-df-quickchart {\n",
              "    background-color: var(--bg-color);\n",
              "    border: none;\n",
              "    border-radius: 50%;\n",
              "    cursor: pointer;\n",
              "    display: none;\n",
              "    fill: var(--fill-color);\n",
              "    height: 32px;\n",
              "    padding: 0;\n",
              "    width: 32px;\n",
              "  }\n",
              "\n",
              "  .colab-df-quickchart:hover {\n",
              "    background-color: var(--hover-bg-color);\n",
              "    box-shadow: 0 1px 2px rgba(60, 64, 67, 0.3), 0 1px 3px 1px rgba(60, 64, 67, 0.15);\n",
              "    fill: var(--button-hover-fill-color);\n",
              "  }\n",
              "\n",
              "  .colab-df-quickchart-complete:disabled,\n",
              "  .colab-df-quickchart-complete:disabled:hover {\n",
              "    background-color: var(--disabled-bg-color);\n",
              "    fill: var(--disabled-fill-color);\n",
              "    box-shadow: none;\n",
              "  }\n",
              "\n",
              "  .colab-df-spinner {\n",
              "    border: 2px solid var(--fill-color);\n",
              "    border-color: transparent;\n",
              "    border-bottom-color: var(--fill-color);\n",
              "    animation:\n",
              "      spin 1s steps(1) infinite;\n",
              "  }\n",
              "\n",
              "  @keyframes spin {\n",
              "    0% {\n",
              "      border-color: transparent;\n",
              "      border-bottom-color: var(--fill-color);\n",
              "      border-left-color: var(--fill-color);\n",
              "    }\n",
              "    20% {\n",
              "      border-color: transparent;\n",
              "      border-left-color: var(--fill-color);\n",
              "      border-top-color: var(--fill-color);\n",
              "    }\n",
              "    30% {\n",
              "      border-color: transparent;\n",
              "      border-left-color: var(--fill-color);\n",
              "      border-top-color: var(--fill-color);\n",
              "      border-right-color: var(--fill-color);\n",
              "    }\n",
              "    40% {\n",
              "      border-color: transparent;\n",
              "      border-right-color: var(--fill-color);\n",
              "      border-top-color: var(--fill-color);\n",
              "    }\n",
              "    60% {\n",
              "      border-color: transparent;\n",
              "      border-right-color: var(--fill-color);\n",
              "    }\n",
              "    80% {\n",
              "      border-color: transparent;\n",
              "      border-right-color: var(--fill-color);\n",
              "      border-bottom-color: var(--fill-color);\n",
              "    }\n",
              "    90% {\n",
              "      border-color: transparent;\n",
              "      border-bottom-color: var(--fill-color);\n",
              "    }\n",
              "  }\n",
              "</style>\n",
              "\n",
              "  <script>\n",
              "    async function quickchart(key) {\n",
              "      const quickchartButtonEl =\n",
              "        document.querySelector('#' + key + ' button');\n",
              "      quickchartButtonEl.disabled = true;  // To prevent multiple clicks.\n",
              "      quickchartButtonEl.classList.add('colab-df-spinner');\n",
              "      try {\n",
              "        const charts = await google.colab.kernel.invokeFunction(\n",
              "            'suggestCharts', [key], {});\n",
              "      } catch (error) {\n",
              "        console.error('Error during call to suggestCharts:', error);\n",
              "      }\n",
              "      quickchartButtonEl.classList.remove('colab-df-spinner');\n",
              "      quickchartButtonEl.classList.add('colab-df-quickchart-complete');\n",
              "    }\n",
              "    (() => {\n",
              "      let quickchartButtonEl =\n",
              "        document.querySelector('#df-4ca369f3-1c2e-4023-b847-c8d282638010 button');\n",
              "      quickchartButtonEl.style.display =\n",
              "        google.colab.kernel.accessAllowed ? 'block' : 'none';\n",
              "    })();\n",
              "  </script>\n",
              "</div>\n",
              "\n",
              "  <div id=\"id_631e60ce-efc3-41db-b898-e27be7d18286\">\n",
              "    <style>\n",
              "      .colab-df-generate {\n",
              "        background-color: #E8F0FE;\n",
              "        border: none;\n",
              "        border-radius: 50%;\n",
              "        cursor: pointer;\n",
              "        display: none;\n",
              "        fill: #1967D2;\n",
              "        height: 32px;\n",
              "        padding: 0 0 0 0;\n",
              "        width: 32px;\n",
              "      }\n",
              "\n",
              "      .colab-df-generate:hover {\n",
              "        background-color: #E2EBFA;\n",
              "        box-shadow: 0px 1px 2px rgba(60, 64, 67, 0.3), 0px 1px 3px 1px rgba(60, 64, 67, 0.15);\n",
              "        fill: #174EA6;\n",
              "      }\n",
              "\n",
              "      [theme=dark] .colab-df-generate {\n",
              "        background-color: #3B4455;\n",
              "        fill: #D2E3FC;\n",
              "      }\n",
              "\n",
              "      [theme=dark] .colab-df-generate:hover {\n",
              "        background-color: #434B5C;\n",
              "        box-shadow: 0px 1px 3px 1px rgba(0, 0, 0, 0.15);\n",
              "        filter: drop-shadow(0px 1px 2px rgba(0, 0, 0, 0.3));\n",
              "        fill: #FFFFFF;\n",
              "      }\n",
              "    </style>\n",
              "    <button class=\"colab-df-generate\" onclick=\"generateWithVariable('image_df')\"\n",
              "            title=\"Generate code using this dataframe.\"\n",
              "            style=\"display:none;\">\n",
              "\n",
              "  <svg xmlns=\"http://www.w3.org/2000/svg\" height=\"24px\"viewBox=\"0 0 24 24\"\n",
              "       width=\"24px\">\n",
              "    <path d=\"M7,19H8.4L18.45,9,17,7.55,7,17.6ZM5,21V16.75L18.45,3.32a2,2,0,0,1,2.83,0l1.4,1.43a1.91,1.91,0,0,1,.58,1.4,1.91,1.91,0,0,1-.58,1.4L9.25,21ZM18.45,9,17,7.55Zm-12,3A5.31,5.31,0,0,0,4.9,8.1,5.31,5.31,0,0,0,1,6.5,5.31,5.31,0,0,0,4.9,4.9,5.31,5.31,0,0,0,6.5,1,5.31,5.31,0,0,0,8.1,4.9,5.31,5.31,0,0,0,12,6.5,5.46,5.46,0,0,0,6.5,12Z\"/>\n",
              "  </svg>\n",
              "    </button>\n",
              "    <script>\n",
              "      (() => {\n",
              "      const buttonEl =\n",
              "        document.querySelector('#id_631e60ce-efc3-41db-b898-e27be7d18286 button.colab-df-generate');\n",
              "      buttonEl.style.display =\n",
              "        google.colab.kernel.accessAllowed ? 'block' : 'none';\n",
              "\n",
              "      buttonEl.onclick = () => {\n",
              "        google.colab.notebook.generateWithVariable('image_df');\n",
              "      }\n",
              "      })();\n",
              "    </script>\n",
              "  </div>\n",
              "\n",
              "    </div>\n",
              "  </div>\n"
            ],
            "application/vnd.google.colaboratory.intrinsic+json": {
              "type": "dataframe",
              "variable_name": "image_df",
              "summary": "{\n  \"name\": \"image_df\",\n  \"rows\": 171,\n  \"fields\": [\n    {\n      \"column\": \"id\",\n      \"properties\": {\n        \"dtype\": \"string\",\n        \"num_unique_values\": 171,\n        \"samples\": [\n          \"Azir Nabab  (8).jpg\",\n          \"Kartik Jattu  (10).jpg\",\n          \"Kartik Jattu  (1).jpg\"\n        ],\n        \"semantic_type\": \"\",\n        \"description\": \"\"\n      }\n    },\n    {\n      \"column\": \"label\",\n      \"properties\": {\n        \"dtype\": \"category\",\n        \"num_unique_values\": 14,\n        \"samples\": [\n          \"Ayush \",\n          \"Nitesh Kumar \",\n          \"Harsh Khanal \"\n        ],\n        \"semantic_type\": \"\",\n        \"description\": \"\"\n      }\n    }\n  ]\n}"
            }
          },
          "metadata": {},
          "execution_count": 8
        }
      ]
    },
    {
      "cell_type": "markdown",
      "source": [
        "# if we need to add some more columns to the data"
      ],
      "metadata": {
        "id": "w9iUxRzTXqUn"
      }
    },
    {
      "cell_type": "code",
      "source": [
        "\n",
        "\n",
        "# # Create a dictionary to map unique labels to IDs, courses, and semesters\n",
        "# label_info = {\n",
        "#     'person1': {'id': 1, 'course': 'Math', 'semester': 'Fall 2023'},\n",
        "#     'person2': {'id': 2, 'course': 'Physics', 'semester': 'Spring 2024'},\n",
        "#     # Add more labels and their corresponding information as needed\n",
        "#     # ...\n",
        "# }\n",
        "\n",
        "# # Function to retrieve information based on the label\n",
        "# def get_label_info(label):\n",
        "#     return label_info.get(label, {'id': None, 'course': None, 'semester': None})\n",
        "\n",
        "# # Apply the function to each row of the DataFrame\n",
        "# image_df[['id_num', 'course', 'semester']] = image_df['label'].apply(lambda x: pd.Series(get_label_info(x)))\n",
        "\n",
        "# # Display the updated DataFrame\n",
        "# print(image_df.head())\n"
      ],
      "metadata": {
        "colab": {
          "base_uri": "https://localhost:8080/"
        },
        "id": "uy88X1R4Pv8n",
        "outputId": "ed64da54-a117-422d-f12c-c964e431395b"
      },
      "execution_count": null,
      "outputs": [
        {
          "output_type": "stream",
          "name": "stdout",
          "text": [
            "                      id          label id_num course semester\n",
            "0  Harsh Khanal  (4).jpg  Harsh Khanal    None   None     None\n",
            "1  Harsh Khanal  (5).jpg  Harsh Khanal    None   None     None\n",
            "2  Harsh Khanal  (6).jpg  Harsh Khanal    None   None     None\n",
            "3  Harsh Khanal  (2).jpg  Harsh Khanal    None   None     None\n",
            "4  Harsh Khanal  (7).jpg  Harsh Khanal    None   None     None\n"
          ]
        }
      ]
    },
    {
      "cell_type": "code",
      "source": [
        "\n",
        "image_df = image_df.drop(columns=['id_num', 'course', 'semester'])\n",
        "\n",
        "print(image_df.head())\n"
      ],
      "metadata": {
        "colab": {
          "base_uri": "https://localhost:8080/"
        },
        "id": "p4gIFLJ0QbDs",
        "outputId": "bb0480af-b548-49e2-85ec-bd8d20d3132c"
      },
      "execution_count": null,
      "outputs": [
        {
          "output_type": "stream",
          "name": "stdout",
          "text": [
            "                      id          label\n",
            "0  Harsh Khanal  (4).jpg  Harsh Khanal \n",
            "1  Harsh Khanal  (5).jpg  Harsh Khanal \n",
            "2  Harsh Khanal  (6).jpg  Harsh Khanal \n",
            "3  Harsh Khanal  (2).jpg  Harsh Khanal \n",
            "4  Harsh Khanal  (7).jpg  Harsh Khanal \n"
          ]
        }
      ]
    },
    {
      "cell_type": "markdown",
      "source": [
        "# function definition for load_and_preprocess_image and generating embedding and finding the match from the labels"
      ],
      "metadata": {
        "id": "p17XcnWeX7BK"
      }
    },
    {
      "cell_type": "code",
      "source": [
        "from google.colab import drive\n",
        "import sys\n",
        "\n",
        "# Mount Google Drive\n",
        "drive.mount('/content/drive')\n",
        "\n",
        "# Path where facenet-pytorch is stored\n",
        "package_path = '/content/drive/MyDrive/colab_packages'\n",
        "sys.path.append(package_path)\n",
        "\n",
        "# Import facenet-pytorch\n",
        "from facenet_pytorch import InceptionResnetV1\n",
        "import torch\n",
        "\n",
        "print(\"facenet-pytorch loaded successfully!\")\n"
      ],
      "metadata": {
        "id": "PQJBdbCZ0FGJ"
      },
      "execution_count": null,
      "outputs": []
    },
    {
      "cell_type": "code",
      "source": [
        "# Importing libraries\n",
        "from tqdm import tqdm\n",
        "from facenet_pytorch import InceptionResnetV1, MTCNN\n",
        "import torch\n",
        "import cv2\n",
        "import numpy as np\n",
        "from tqdm import tqdm  # For progress bar\n",
        "\n",
        "# Initialize MTCNN for face detection and InceptionResnetV1 for face embeddings\n",
        "mtcnn = MTCNN(keep_all=True)\n",
        "model = InceptionResnetV1(pretrained='vggface2').eval()\n",
        "# get_face_embedding generates face embedding of images\n",
        "def get_face_embedding(image):\n",
        "    image = np.expand_dims(image, axis=0)  # Convert to a batch of one image\n",
        "\n",
        "    # Detect faces in the image\n",
        "    faces = mtcnn(image)  # faces is a tensor of detected face(s)\n",
        "\n",
        "    if faces is not None:\n",
        "        # For simplicity, take the first detected face (you can handle multiple faces differently if needed)\n",
        "        face_embedding = model(faces[0])  # Get the embedding for the first detected face\n",
        "        return face_embedding.detach().cpu().numpy()  # Return the embedding as a numpy array\n",
        "    else:\n",
        "        return None  # No face detected, return None\n",
        "\n",
        "\n",
        "# Function to load and preprocess image\n",
        "def load_and_preprocess_image(image_path):\n",
        "    image = cv2.imread(image_path)  # Load the image\n",
        "    image = cv2.cvtColor(image, cv2.COLOR_BGR2RGB)  # Convert from BGR to RGB\n",
        "    return image\n",
        "\n",
        "# Function to find image by name in the dataset\n",
        "def find_image_by_name(image_name, root_folder='dataset'):\n",
        "    for subdir, _, files in os.walk(root_folder):  # Traverse through all subdirectories\n",
        "        if image_name in files:\n",
        "            return os.path.join(subdir, image_name)  # Return the full image path\n",
        "    return None  # If not found, return None\n",
        "\n"
      ],
      "metadata": {
        "colab": {
          "base_uri": "https://localhost:8080/",
          "height": 208,
          "referenced_widgets": [
            "5dbdcc2f13524b39884874537cc56b85",
            "01076732c1774f15a9072e7fafc99d5b",
            "62652d776c584d5b99667865bd1f336e",
            "a41377b517ab4a789aaa8af4b8f98802",
            "410065d2b4de4ac08e14d74d13641243",
            "d5aa3e42dd5e44ef80e4eb5262e5692a",
            "eb6f976052bc40fb82de1b6125000959",
            "1634b5c11cb34d2aab7fbbe78f4bc280",
            "a9981d3c30fd4de6904ddab909fbfb75",
            "c9de2bd4a8a840ff8ccb28df63fe8711",
            "207519f86dc4489cb66b5205f55c5fc1"
          ]
        },
        "id": "j5XKDr1HALmp",
        "outputId": "0cb6e7de-d260-469f-95fc-633c583d30ae"
      },
      "execution_count": null,
      "outputs": [
        {
          "output_type": "stream",
          "name": "stderr",
          "text": [
            "/content/drive/MyDrive/colab_packages/facenet_pytorch/models/mtcnn.py:34: FutureWarning: You are using `torch.load` with `weights_only=False` (the current default value), which uses the default pickle module implicitly. It is possible to construct malicious pickle data which will execute arbitrary code during unpickling (See https://github.com/pytorch/pytorch/blob/main/SECURITY.md#untrusted-models for more details). In a future release, the default value for `weights_only` will be flipped to `True`. This limits the functions that could be executed during unpickling. Arbitrary objects will no longer be allowed to be loaded via this mode unless they are explicitly allowlisted by the user via `torch.serialization.add_safe_globals`. We recommend you start setting `weights_only=True` for any use case where you don't have full control of the loaded file. Please open an issue on GitHub for any issues related to this experimental feature.\n",
            "  state_dict = torch.load(state_dict_path)\n",
            "/content/drive/MyDrive/colab_packages/facenet_pytorch/models/mtcnn.py:79: FutureWarning: You are using `torch.load` with `weights_only=False` (the current default value), which uses the default pickle module implicitly. It is possible to construct malicious pickle data which will execute arbitrary code during unpickling (See https://github.com/pytorch/pytorch/blob/main/SECURITY.md#untrusted-models for more details). In a future release, the default value for `weights_only` will be flipped to `True`. This limits the functions that could be executed during unpickling. Arbitrary objects will no longer be allowed to be loaded via this mode unless they are explicitly allowlisted by the user via `torch.serialization.add_safe_globals`. We recommend you start setting `weights_only=True` for any use case where you don't have full control of the loaded file. Please open an issue on GitHub for any issues related to this experimental feature.\n",
            "  state_dict = torch.load(state_dict_path)\n",
            "/content/drive/MyDrive/colab_packages/facenet_pytorch/models/mtcnn.py:132: FutureWarning: You are using `torch.load` with `weights_only=False` (the current default value), which uses the default pickle module implicitly. It is possible to construct malicious pickle data which will execute arbitrary code during unpickling (See https://github.com/pytorch/pytorch/blob/main/SECURITY.md#untrusted-models for more details). In a future release, the default value for `weights_only` will be flipped to `True`. This limits the functions that could be executed during unpickling. Arbitrary objects will no longer be allowed to be loaded via this mode unless they are explicitly allowlisted by the user via `torch.serialization.add_safe_globals`. We recommend you start setting `weights_only=True` for any use case where you don't have full control of the loaded file. Please open an issue on GitHub for any issues related to this experimental feature.\n",
            "  state_dict = torch.load(state_dict_path)\n"
          ]
        },
        {
          "output_type": "display_data",
          "data": {
            "text/plain": [
              "  0%|          | 0.00/107M [00:00<?, ?B/s]"
            ],
            "application/vnd.jupyter.widget-view+json": {
              "version_major": 2,
              "version_minor": 0,
              "model_id": "5dbdcc2f13524b39884874537cc56b85"
            }
          },
          "metadata": {}
        },
        {
          "output_type": "stream",
          "name": "stderr",
          "text": [
            "/content/drive/MyDrive/colab_packages/facenet_pytorch/models/inception_resnet_v1.py:329: FutureWarning: You are using `torch.load` with `weights_only=False` (the current default value), which uses the default pickle module implicitly. It is possible to construct malicious pickle data which will execute arbitrary code during unpickling (See https://github.com/pytorch/pytorch/blob/main/SECURITY.md#untrusted-models for more details). In a future release, the default value for `weights_only` will be flipped to `True`. This limits the functions that could be executed during unpickling. Arbitrary objects will no longer be allowed to be loaded via this mode unless they are explicitly allowlisted by the user via `torch.serialization.add_safe_globals`. We recommend you start setting `weights_only=True` for any use case where you don't have full control of the loaded file. Please open an issue on GitHub for any issues related to this experimental feature.\n",
            "  state_dict = torch.load(cached_file)\n"
          ]
        }
      ]
    },
    {
      "cell_type": "markdown",
      "source": [
        "# Generating embedding corresponding to each image"
      ],
      "metadata": {
        "id": "bygNQe0xYRQB"
      }
    },
    {
      "cell_type": "code",
      "source": [
        "from tqdm import tqdm\n",
        "\n",
        "# Initialize lists for embeddings and labels\n",
        "embeddings = []\n",
        "labels = []\n",
        "\n",
        "# image_df is already defined and contains 'id' and 'label' columns\n",
        "# tqdm is to show the progress bar while generating the embeddings\n",
        "for index, row in tqdm(image_df.iterrows(), total=image_df.shape[0]):\n",
        "    image_name = row['id']\n",
        "    label = row['label']\n",
        "\n",
        "    # Find the image by name in the dataset folder\n",
        "    image_path = find_image_by_name(image_name)\n",
        "\n",
        "    if image_path is None:\n",
        "        print(f\"Image not found: {image_name}\")\n",
        "        continue  # Skip if the image is not found\n",
        "\n",
        "    # Load and preprocess the image\n",
        "    image = load_and_preprocess_image(image_path)\n",
        "\n",
        "    # Generate embedding using FaceNet model\n",
        "    embedding = get_face_embedding(image)\n",
        "\n",
        "    if embedding is not None:\n",
        "        # Ensure that embedding is 1D and consistent in size\n",
        "        embedding = embedding.flatten()\n",
        "\n",
        "        # Checking if the shape of the embedding is consistent\n",
        "        if embedding.shape[0] < 512:\n",
        "            # Pad the embedding with zeros if it's smaller than 512\n",
        "            padding_length = 512 - embedding.shape[0]\n",
        "            embedding = np.pad(embedding, (0, padding_length), 'constant')\n",
        "        elif embedding.shape[0] > 512:\n",
        "            # Truncate the embedding if it's larger than 512\n",
        "            embedding = embedding[:512]\n",
        "\n",
        "        embeddings.append(embedding)\n",
        "        labels.append(label)\n",
        "    else:\n",
        "        print(f\"Face not detected in {image_name}, skipping image.\")\n",
        "\n",
        "# Convert embeddings to a numpy array\n",
        "embeddings = np.array(embeddings)\n",
        "\n",
        "# Check if all embeddings are consistent in shape\n",
        "print(f\"Shape of one embedding: {embeddings[0].shape}\")\n",
        "\n",
        "# Save the embeddings and labels for later use\n",
        "# np.save('embeddings.npy', embeddings)\n",
        "# np.save('labels.npy', labels)\n",
        "\n",
        "print(\"Embeddings and labels have been generated.\")\n"
      ],
      "metadata": {
        "id": "12x32w_JAzUE",
        "colab": {
          "base_uri": "https://localhost:8080/"
        },
        "outputId": "78df91cc-5f4a-432f-bf66-9b02a366d22b"
      },
      "execution_count": null,
      "outputs": [
        {
          "output_type": "stream",
          "name": "stderr",
          "text": [
            "100%|██████████| 171/171 [02:19<00:00,  1.23it/s]"
          ]
        },
        {
          "output_type": "stream",
          "name": "stdout",
          "text": [
            "Shape of one embedding: (512,)\n",
            "Embeddings and labels have been generated.\n"
          ]
        },
        {
          "output_type": "stream",
          "name": "stderr",
          "text": [
            "\n"
          ]
        }
      ]
    },
    {
      "cell_type": "code",
      "source": [
        "embeddings\n"
      ],
      "metadata": {
        "colab": {
          "base_uri": "https://localhost:8080/"
        },
        "id": "WcAztju4BFvC",
        "outputId": "eeb9b04f-4391-4959-97e4-f1c51dcdb262"
      },
      "execution_count": null,
      "outputs": [
        {
          "output_type": "execute_result",
          "data": {
            "text/plain": [
              "array([[-0.03435018, -0.02136563, -0.02000606, ..., -0.07915436,\n",
              "         0.04428757,  0.01551715],\n",
              "       [-0.00826947,  0.01164269, -0.00242271, ..., -0.03853051,\n",
              "         0.01180543, -0.01040412],\n",
              "       [-0.0671566 , -0.00777462, -0.03497915, ..., -0.01573098,\n",
              "         0.03983663, -0.03357571],\n",
              "       ...,\n",
              "       [ 0.06592306,  0.00146412,  0.00959692, ...,  0.04581694,\n",
              "        -0.04103568, -0.02314319],\n",
              "       [-0.01185033,  0.01518739, -0.02497549, ...,  0.02565616,\n",
              "        -0.01599865,  0.00400233],\n",
              "       [ 0.05611857,  0.00633542,  0.02236838, ...,  0.00417228,\n",
              "        -0.06618579, -0.04572008]], dtype=float32)"
            ]
          },
          "metadata": {},
          "execution_count": 14
        }
      ]
    },
    {
      "cell_type": "code",
      "source": [
        "labels"
      ],
      "metadata": {
        "id": "lcWcjIv2B-jF"
      },
      "execution_count": null,
      "outputs": []
    },
    {
      "cell_type": "code",
      "source": [],
      "metadata": {
        "id": "wmdf3rSCI-8k"
      },
      "execution_count": null,
      "outputs": []
    },
    {
      "cell_type": "markdown",
      "source": [
        "**Saving the generated embeddings and labels**"
      ],
      "metadata": {
        "id": "A5LzJYtbYbd8"
      }
    },
    {
      "cell_type": "code",
      "source": [
        "np.save('/content/drive/MyDrive/My_embeddings.npy', embeddings)\n",
        "np.save('/content/drive/MyDrive/My_labels.npy', labels)\n"
      ],
      "metadata": {
        "id": "67RkoNc_CAKc"
      },
      "execution_count": null,
      "outputs": []
    },
    {
      "cell_type": "code",
      "source": [],
      "metadata": {
        "id": "GXeQy8pvCJD8"
      },
      "execution_count": null,
      "outputs": []
    },
    {
      "cell_type": "markdown",
      "source": [
        "# Triplet generation for training sing \" Triplet Loss \""
      ],
      "metadata": {
        "id": "VO34NmNsYkG9"
      }
    },
    {
      "cell_type": "markdown",
      "source": [
        "Code for  triplet genration\n"
      ],
      "metadata": {
        "id": "4blB2dTV_MQk"
      }
    },
    {
      "cell_type": "code",
      "source": [
        "import numpy as np\n",
        "import torch\n",
        "from sklearn.preprocessing import LabelEncoder\n",
        "\n",
        "# Load the embeddings and labels from .npy files\n",
        "embeddings = np.load('/content/drive/MyDrive/My_embeddings.npy')\n",
        "labels = np.load('/content/drive/MyDrive/My_labels.npy')\n",
        "\n",
        "# Encode string labels to numeric values\n",
        "label_encoder = LabelEncoder()\n",
        "encoded_labels = label_encoder.fit_transform(labels)\n",
        "\n",
        "# Convert embeddings and labels to torch tensors\n",
        "embeddings_tensor = torch.tensor(embeddings, dtype=torch.float32)\n",
        "labels_tensor = torch.tensor(encoded_labels, dtype=torch.long)\n",
        "\n",
        "# Function to generate triplets\n",
        "def generate_triplets(embeddings, labels):\n",
        "    triplets = []\n",
        "\n",
        "    # Loop over each embedding to create triplets\n",
        "    for i in range(len(embeddings)):\n",
        "        anchor_embedding = embeddings[i]\n",
        "        anchor_label = labels[i]\n",
        "\n",
        "        # Find positive example: Another image of the same person\n",
        "        positive_indices = [j for j in range(len(labels)) if labels[j] == anchor_label and j != i]\n",
        "        if len(positive_indices) == 0:\n",
        "            continue\n",
        "        positive_index = np.random.choice(positive_indices)\n",
        "        positive_embedding = embeddings[positive_index]\n",
        "\n",
        "        # Find negative example: An image of a different person\n",
        "        negative_indices = [j for j in range(len(labels)) if labels[j] != anchor_label]\n",
        "\n",
        "        # Check if negative_indices is not empty\n",
        "        if len(negative_indices) == 0:\n",
        "            print(f\"No negative example found for anchor at index {i}. Skipping...\")\n",
        "            continue\n",
        "\n",
        "        negative_index = np.random.choice(negative_indices)\n",
        "        negative_embedding = embeddings[negative_index]\n",
        "\n",
        "        # Add the triplet (anchor, positive, negative) to the list\n",
        "        triplets.append((anchor_embedding, positive_embedding, negative_embedding))\n",
        "\n",
        "    return triplets\n",
        "\n",
        "# Generate triplets from embeddings and labels\n",
        "triplets = generate_triplets(embeddings_tensor, labels_tensor)\n",
        "\n",
        "# Convert triplets to a torch tensor for training\n",
        "anchor_embeddings = torch.stack([t[0] for t in triplets])\n",
        "positive_embeddings = torch.stack([t[1] for t in triplets])\n",
        "negative_embeddings = torch.stack([t[2] for t in triplets])\n",
        "\n",
        "# Decode labels if required\n",
        "decoded_labels = label_encoder.inverse_transform(labels_tensor.numpy())\n",
        "\n",
        "print(\"Triplet generation completed successfully.\")\n"
      ],
      "metadata": {
        "colab": {
          "base_uri": "https://localhost:8080/"
        },
        "id": "gBCYn9hjCTEO",
        "outputId": "887474d5-25e1-4a5b-f197-d5c679a03344"
      },
      "execution_count": null,
      "outputs": [
        {
          "output_type": "stream",
          "name": "stdout",
          "text": [
            "Triplet generation completed successfully.\n"
          ]
        }
      ]
    },
    {
      "cell_type": "markdown",
      "source": [
        "**Defining Loss Function**"
      ],
      "metadata": {
        "id": "tMivkR2XZV0o"
      }
    },
    {
      "cell_type": "code",
      "source": [
        "import torch.nn as nn\n",
        "\n",
        "triplet_loss_fn = nn.TripletMarginLoss(margin=1.0, p=2)\n"
      ],
      "metadata": {
        "id": "9wOnBUkDCS-R"
      },
      "execution_count": null,
      "outputs": []
    },
    {
      "cell_type": "code",
      "source": [],
      "metadata": {
        "id": "igVoblf-9-I4"
      },
      "execution_count": null,
      "outputs": []
    },
    {
      "cell_type": "code",
      "source": [
        "optimizer = torch.optim.Adam(model.parameters(), lr=0.001)\n",
        "num_epochs = 10\n",
        "import torch\n",
        "import torch.nn as nn\n",
        "import torch.optim as optim\n",
        "\n",
        "\n",
        "# Convert embeddings to torch tensors\n",
        "anchor_embeddings = torch.tensor(anchor_embeddings, dtype=torch.float32)\n",
        "positive_embeddings = torch.tensor(positive_embeddings, dtype=torch.float32)\n",
        "negative_embeddings = torch.tensor(negative_embeddings, dtype=torch.float32)\n",
        "\n",
        "# Define the Triplet Margin Loss function\n",
        "triplet_loss = nn.TripletMarginLoss(margin=1.0, p=2)\n",
        "\n",
        "# Compute the loss for each triplet\n",
        "loss = triplet_loss(anchor_embeddings, positive_embeddings, negative_embeddings)\n",
        "\n",
        "# Print the loss\n",
        "print(\"Loss:\", loss.item())"
      ],
      "metadata": {
        "colab": {
          "base_uri": "https://localhost:8080/",
          "height": 211
        },
        "id": "oYB6kX7oJQtT",
        "outputId": "900fdc39-1d64-4cb0-92f7-a020149a07b9"
      },
      "execution_count": null,
      "outputs": [
        {
          "output_type": "error",
          "ename": "NameError",
          "evalue": "name 'torch' is not defined",
          "traceback": [
            "\u001b[0;31m---------------------------------------------------------------------------\u001b[0m",
            "\u001b[0;31mNameError\u001b[0m                                 Traceback (most recent call last)",
            "\u001b[0;32m<ipython-input-4-1e330f611a1b>\u001b[0m in \u001b[0;36m<cell line: 0>\u001b[0;34m()\u001b[0m\n\u001b[0;32m----> 1\u001b[0;31m \u001b[0moptimizer\u001b[0m \u001b[0;34m=\u001b[0m \u001b[0mtorch\u001b[0m\u001b[0;34m.\u001b[0m\u001b[0moptim\u001b[0m\u001b[0;34m.\u001b[0m\u001b[0mAdam\u001b[0m\u001b[0;34m(\u001b[0m\u001b[0mmodel\u001b[0m\u001b[0;34m.\u001b[0m\u001b[0mparameters\u001b[0m\u001b[0;34m(\u001b[0m\u001b[0;34m)\u001b[0m\u001b[0;34m,\u001b[0m \u001b[0mlr\u001b[0m\u001b[0;34m=\u001b[0m\u001b[0;36m0.001\u001b[0m\u001b[0;34m)\u001b[0m\u001b[0;34m\u001b[0m\u001b[0;34m\u001b[0m\u001b[0m\n\u001b[0m\u001b[1;32m      2\u001b[0m \u001b[0mnum_epochs\u001b[0m \u001b[0;34m=\u001b[0m \u001b[0;36m10\u001b[0m\u001b[0;34m\u001b[0m\u001b[0;34m\u001b[0m\u001b[0m\n\u001b[1;32m      3\u001b[0m \u001b[0;32mimport\u001b[0m \u001b[0mtorch\u001b[0m\u001b[0;34m\u001b[0m\u001b[0;34m\u001b[0m\u001b[0m\n\u001b[1;32m      4\u001b[0m \u001b[0;32mimport\u001b[0m \u001b[0mtorch\u001b[0m\u001b[0;34m.\u001b[0m\u001b[0mnn\u001b[0m \u001b[0;32mas\u001b[0m \u001b[0mnn\u001b[0m\u001b[0;34m\u001b[0m\u001b[0;34m\u001b[0m\u001b[0m\n\u001b[1;32m      5\u001b[0m \u001b[0;32mimport\u001b[0m \u001b[0mtorch\u001b[0m\u001b[0;34m.\u001b[0m\u001b[0moptim\u001b[0m \u001b[0;32mas\u001b[0m \u001b[0moptim\u001b[0m\u001b[0;34m\u001b[0m\u001b[0;34m\u001b[0m\u001b[0m\n",
            "\u001b[0;31mNameError\u001b[0m: name 'torch' is not defined"
          ]
        }
      ]
    },
    {
      "cell_type": "code",
      "source": [],
      "metadata": {
        "id": "aMdK3KIH-XRS"
      },
      "execution_count": null,
      "outputs": []
    },
    {
      "cell_type": "markdown",
      "source": [
        "# Training the model on Triplet Loss"
      ],
      "metadata": {
        "id": "QKX-8LB7Zk86"
      }
    },
    {
      "cell_type": "code",
      "source": [
        "import torch\n",
        "from torch.utils.data import Dataset, DataLoader\n",
        "\n",
        "class TripletDataset(Dataset):\n",
        "    def __init__(self, embeddings, labels):\n",
        "        self.embeddings = embeddings\n",
        "        self.labels = labels\n",
        "        self.triplets = generate_triplets(embeddings, labels)\n",
        "\n",
        "    def __len__(self):\n",
        "        return len(self.triplets)\n",
        "\n",
        "    def __getitem__(self, idx):\n",
        "        # Get the triplet (anchor, positive, negative) for the given index\n",
        "        anchor, positive, negative = self.triplets[idx]\n",
        "\n",
        "        # Convert embeddings to tensors with requires_grad=True for backpropagation\n",
        "        anchor = torch.tensor(anchor, dtype=torch.float32, requires_grad=True)\n",
        "        positive = torch.tensor(positive, dtype=torch.float32, requires_grad=True)\n",
        "        negative = torch.tensor(negative, dtype=torch.float32, requires_grad=True)\n",
        "\n",
        "        return anchor, positive, negative\n",
        "\n",
        "# Instantiate the custom dataset\n",
        "dataset = TripletDataset(embeddings, labels)\n",
        "\n",
        "# Create a DataLoader to load data in batches\n",
        "batch_size = 32\n",
        "dataloader = DataLoader(dataset, batch_size=batch_size, shuffle=True)\n",
        "\n",
        "num_epochs = 10  # You can set the number of epochs to train\n",
        "\n",
        "for epoch in range(num_epochs):\n",
        "    total_loss = 0  # To accumulate loss for each epoch\n",
        "    for anchor_embeddings, positive_embeddings, negative_embeddings in dataloader:\n",
        "\n",
        "        # Zero gradients, compute loss, backpropagate, and update weights\n",
        "        optimizer.zero_grad()\n",
        "\n",
        "        # Calculate triplet loss\n",
        "        loss = triplet_loss(anchor_embeddings, positive_embeddings, negative_embeddings)\n",
        "\n",
        "        # Backpropagate the loss and update the model\n",
        "        loss.backward()\n",
        "        optimizer.step()\n",
        "\n",
        "        # Print the loss for the current batch\n",
        "        total_loss += loss.item()\n",
        "\n",
        "    print(f\"Epoch [{epoch+1}/{num_epochs}], Loss: {total_loss/len(dataloader)}\")\n"
      ],
      "metadata": {
        "colab": {
          "base_uri": "https://localhost:8080/"
        },
        "id": "zIpfluCUJdaP",
        "outputId": "f69be7ea-d2bb-4501-d07c-72bdce0cc1f4"
      },
      "execution_count": null,
      "outputs": [
        {
          "output_type": "stream",
          "name": "stdout",
          "text": [
            "Epoch [1/10], Loss: 0.3916706641515096\n",
            "Epoch [2/10], Loss: 0.3922719160715739\n",
            "Epoch [3/10], Loss: 0.4064492732286453\n",
            "Epoch [4/10], Loss: 0.3894239515066147\n",
            "Epoch [5/10], Loss: 0.40098972121874493\n",
            "Epoch [6/10], Loss: 0.40493163963158924\n",
            "Epoch [7/10], Loss: 0.40110700329144794\n",
            "Epoch [8/10], Loss: 0.40247274935245514\n",
            "Epoch [9/10], Loss: 0.3935115983088811\n",
            "Epoch [10/10], Loss: 0.39464734494686127\n"
          ]
        }
      ]
    },
    {
      "cell_type": "markdown",
      "source": [
        "**Fine Tuning**"
      ],
      "metadata": {
        "id": "Rm_VhTLTZ57x"
      }
    },
    {
      "cell_type": "code",
      "source": [
        "for epoch in range(num_epochs):\n",
        "    for batch in dataloader:  # Loop over the dataset\n",
        "        anchor_embeddings, positive_embeddings, negative_embeddings = batch\n",
        "\n",
        "        # Zero gradients, compute loss, backpropagate, and update weights\n",
        "        optimizer.zero_grad()\n",
        "        loss = triplet_loss(anchor_embeddings, positive_embeddings, negative_embeddings)\n",
        "        loss.backward()\n",
        "        optimizer.step()\n",
        "\n",
        "        print(f\"Epoch [{epoch+1}/{num_epochs}], Loss: {loss.item()}\")\n"
      ],
      "metadata": {
        "colab": {
          "base_uri": "https://localhost:8080/"
        },
        "id": "A6GJUW01J0Tc",
        "outputId": "21f59859-ffb0-4723-ead3-cda477bbd56f"
      },
      "execution_count": null,
      "outputs": [
        {
          "output_type": "stream",
          "name": "stdout",
          "text": [
            "Epoch [1/10], Loss: 0.4095693528652191\n",
            "Epoch [1/10], Loss: 0.39125847816467285\n",
            "Epoch [1/10], Loss: 0.4113355278968811\n",
            "Epoch [1/10], Loss: 0.37417975068092346\n",
            "Epoch [1/10], Loss: 0.4204476475715637\n",
            "Epoch [1/10], Loss: 0.370027095079422\n",
            "Epoch [2/10], Loss: 0.448482483625412\n",
            "Epoch [2/10], Loss: 0.4338950514793396\n",
            "Epoch [2/10], Loss: 0.4227871298789978\n",
            "Epoch [2/10], Loss: 0.35078760981559753\n",
            "Epoch [2/10], Loss: 0.3356782793998718\n",
            "Epoch [2/10], Loss: 0.41412976384162903\n",
            "Epoch [3/10], Loss: 0.3693150579929352\n",
            "Epoch [3/10], Loss: 0.4194072484970093\n",
            "Epoch [3/10], Loss: 0.3678692877292633\n",
            "Epoch [3/10], Loss: 0.3761797845363617\n",
            "Epoch [3/10], Loss: 0.434630423784256\n",
            "Epoch [3/10], Loss: 0.4846130311489105\n",
            "Epoch [4/10], Loss: 0.4592071771621704\n",
            "Epoch [4/10], Loss: 0.37689894437789917\n",
            "Epoch [4/10], Loss: 0.35335782170295715\n",
            "Epoch [4/10], Loss: 0.36568403244018555\n",
            "Epoch [4/10], Loss: 0.4582241177558899\n",
            "Epoch [4/10], Loss: 0.3508814871311188\n",
            "Epoch [5/10], Loss: 0.35395848751068115\n",
            "Epoch [5/10], Loss: 0.42858821153640747\n",
            "Epoch [5/10], Loss: 0.3770001530647278\n",
            "Epoch [5/10], Loss: 0.3727691173553467\n",
            "Epoch [5/10], Loss: 0.4585139751434326\n",
            "Epoch [5/10], Loss: 0.41645851731300354\n",
            "Epoch [6/10], Loss: 0.4587026536464691\n",
            "Epoch [6/10], Loss: 0.40133580565452576\n",
            "Epoch [6/10], Loss: 0.40671223402023315\n",
            "Epoch [6/10], Loss: 0.3594823181629181\n",
            "Epoch [6/10], Loss: 0.37414902448654175\n",
            "Epoch [6/10], Loss: 0.38867074251174927\n",
            "Epoch [7/10], Loss: 0.3712798058986664\n",
            "Epoch [7/10], Loss: 0.3517340421676636\n",
            "Epoch [7/10], Loss: 0.4091634750366211\n",
            "Epoch [7/10], Loss: 0.483000248670578\n",
            "Epoch [7/10], Loss: 0.40765026211738586\n",
            "Epoch [7/10], Loss: 0.3233737051486969\n",
            "Epoch [8/10], Loss: 0.36182186007499695\n",
            "Epoch [8/10], Loss: 0.4416685402393341\n",
            "Epoch [8/10], Loss: 0.3985826075077057\n",
            "Epoch [8/10], Loss: 0.34309524297714233\n",
            "Epoch [8/10], Loss: 0.4536117911338806\n",
            "Epoch [8/10], Loss: 0.39333125948905945\n",
            "Epoch [9/10], Loss: 0.3643590211868286\n",
            "Epoch [9/10], Loss: 0.41547781229019165\n",
            "Epoch [9/10], Loss: 0.4465605616569519\n",
            "Epoch [9/10], Loss: 0.39159446954727173\n",
            "Epoch [9/10], Loss: 0.3755735456943512\n",
            "Epoch [9/10], Loss: 0.40850117802619934\n",
            "Epoch [10/10], Loss: 0.3596455454826355\n",
            "Epoch [10/10], Loss: 0.3795625567436218\n",
            "Epoch [10/10], Loss: 0.37406378984451294\n",
            "Epoch [10/10], Loss: 0.4402839243412018\n",
            "Epoch [10/10], Loss: 0.44674021005630493\n",
            "Epoch [10/10], Loss: 0.38892096281051636\n"
          ]
        }
      ]
    },
    {
      "cell_type": "code",
      "source": [
        "model_path = '/content/drive/MyDrive/less_dataset_model.pth'\n",
        "torch.save(model.state_dict(), model_path)\n"
      ],
      "metadata": {
        "id": "3F3yx0ZfJ6Oy"
      },
      "execution_count": null,
      "outputs": []
    },
    {
      "cell_type": "markdown",
      "source": [
        "# Visualizing the loss"
      ],
      "metadata": {
        "id": "8AeFTGFRatNG"
      }
    },
    {
      "cell_type": "code",
      "source": [
        "import numpy as np\n",
        "import torch\n",
        "import matplotlib.pyplot as plt\n",
        "from sklearn.preprocessing import LabelEncoder\n",
        "\n",
        "# Load the embeddings and labels from .npy files\n",
        "embeddings = np.load('/content/drive/MyDrive/My_embeddings.npy')\n",
        "labels = np.load('/content/drive/MyDrive/My_labels.npy')\n",
        "\n",
        "# Encode string labels to numeric values\n",
        "label_encoder = LabelEncoder()\n",
        "encoded_labels = label_encoder.fit_transform(labels)\n",
        "\n",
        "# Convert embeddings and labels to torch tensors\n",
        "embeddings_tensor = torch.tensor(embeddings, dtype=torch.float32)\n",
        "labels_tensor = torch.tensor(encoded_labels, dtype=torch.long)\n",
        "\n",
        "# Function to generate triplets\n",
        "def generate_triplets(embeddings, labels):\n",
        "    triplets = []\n",
        "    for i in range(len(embeddings)):\n",
        "        anchor_embedding = embeddings[i]\n",
        "        anchor_label = labels[i]\n",
        "\n",
        "        # Find a positive sample\n",
        "        positive_indices = [j for j in range(len(labels)) if labels[j] == anchor_label and j != i]\n",
        "        if len(positive_indices) == 0:\n",
        "            continue\n",
        "        positive_embedding = embeddings[np.random.choice(positive_indices)]\n",
        "\n",
        "        # Find a negative sample\n",
        "        negative_indices = [j for j in range(len(labels)) if labels[j] != anchor_label]\n",
        "        if len(negative_indices) == 0:\n",
        "            print(f\"No negative example found for anchor at index {i}. Skipping...\")\n",
        "            continue\n",
        "        negative_embedding = embeddings[np.random.choice(negative_indices)]\n",
        "\n",
        "        # Store triplet\n",
        "        triplets.append((anchor_embedding, positive_embedding, negative_embedding))\n",
        "\n",
        "    return triplets\n",
        "\n",
        "# Generate triplets\n",
        "triplets = generate_triplets(embeddings_tensor, labels_tensor)\n",
        "anchor_embeddings = torch.stack([t[0] for t in triplets])\n",
        "positive_embeddings = torch.stack([t[1] for t in triplets])\n",
        "negative_embeddings = torch.stack([t[2] for t in triplets])\n",
        "\n",
        "print(f\"Generated {len(triplets)} triplets.\")\n",
        "\n",
        "# Define a simple Triplet Loss function\n",
        "triplet_loss_fn = torch.nn.TripletMarginLoss(margin=1.0)\n",
        "\n",
        "# Training loop to track loss\n",
        "num_epochs = 50\n",
        "history = {\"loss\": []}\n",
        "\n",
        "for epoch in range(num_epochs):\n",
        "    epoch_loss = 0\n",
        "    for i in range(len(anchor_embeddings)):\n",
        "        anchor, positive, negative = anchor_embeddings[i], positive_embeddings[i], negative_embeddings[i]\n",
        "        loss = triplet_loss_fn(anchor.unsqueeze(0), positive.unsqueeze(0), negative.unsqueeze(0))\n",
        "        epoch_loss += loss.item()\n",
        "\n",
        "    avg_loss = epoch_loss / len(anchor_embeddings)\n",
        "    history[\"loss\"].append(avg_loss)\n",
        "    print(f\"Epoch {epoch+1}/{num_epochs} - Loss: {avg_loss:.4f}\")\n",
        "\n",
        "# Plot loss curve\n",
        "plt.plot(history[\"loss\"], marker=\"o\", label=\"Triplet Loss\")\n",
        "plt.xlabel(\"Epochs\")\n",
        "plt.ylabel(\"Loss\")\n",
        "plt.title(\"Triplet Loss Curve\")\n",
        "plt.legend()\n",
        "plt.grid()\n",
        "plt.show()\n"
      ],
      "metadata": {
        "id": "DIpxZdKdDfa0",
        "colab": {
          "base_uri": "https://localhost:8080/",
          "height": 1000
        },
        "outputId": "805c1275-061d-4cb7-a22b-d68ae2e28a3b"
      },
      "execution_count": null,
      "outputs": [
        {
          "output_type": "stream",
          "name": "stdout",
          "text": [
            "Generated 171 triplets.\n",
            "Epoch 1/50 - Loss: 0.3842\n",
            "Epoch 2/50 - Loss: 0.3842\n",
            "Epoch 3/50 - Loss: 0.3842\n",
            "Epoch 4/50 - Loss: 0.3842\n",
            "Epoch 5/50 - Loss: 0.3842\n",
            "Epoch 6/50 - Loss: 0.3842\n",
            "Epoch 7/50 - Loss: 0.3842\n",
            "Epoch 8/50 - Loss: 0.3842\n",
            "Epoch 9/50 - Loss: 0.3842\n",
            "Epoch 10/50 - Loss: 0.3842\n",
            "Epoch 11/50 - Loss: 0.3842\n",
            "Epoch 12/50 - Loss: 0.3842\n",
            "Epoch 13/50 - Loss: 0.3842\n",
            "Epoch 14/50 - Loss: 0.3842\n",
            "Epoch 15/50 - Loss: 0.3842\n",
            "Epoch 16/50 - Loss: 0.3842\n",
            "Epoch 17/50 - Loss: 0.3842\n",
            "Epoch 18/50 - Loss: 0.3842\n",
            "Epoch 19/50 - Loss: 0.3842\n",
            "Epoch 20/50 - Loss: 0.3842\n",
            "Epoch 21/50 - Loss: 0.3842\n",
            "Epoch 22/50 - Loss: 0.3842\n",
            "Epoch 23/50 - Loss: 0.3842\n",
            "Epoch 24/50 - Loss: 0.3842\n",
            "Epoch 25/50 - Loss: 0.3842\n",
            "Epoch 26/50 - Loss: 0.3842\n",
            "Epoch 27/50 - Loss: 0.3842\n",
            "Epoch 28/50 - Loss: 0.3842\n",
            "Epoch 29/50 - Loss: 0.3842\n",
            "Epoch 30/50 - Loss: 0.3842\n",
            "Epoch 31/50 - Loss: 0.3842\n",
            "Epoch 32/50 - Loss: 0.3842\n",
            "Epoch 33/50 - Loss: 0.3842\n",
            "Epoch 34/50 - Loss: 0.3842\n",
            "Epoch 35/50 - Loss: 0.3842\n",
            "Epoch 36/50 - Loss: 0.3842\n",
            "Epoch 37/50 - Loss: 0.3842\n",
            "Epoch 38/50 - Loss: 0.3842\n",
            "Epoch 39/50 - Loss: 0.3842\n",
            "Epoch 40/50 - Loss: 0.3842\n",
            "Epoch 41/50 - Loss: 0.3842\n",
            "Epoch 42/50 - Loss: 0.3842\n",
            "Epoch 43/50 - Loss: 0.3842\n",
            "Epoch 44/50 - Loss: 0.3842\n",
            "Epoch 45/50 - Loss: 0.3842\n",
            "Epoch 46/50 - Loss: 0.3842\n",
            "Epoch 47/50 - Loss: 0.3842\n",
            "Epoch 48/50 - Loss: 0.3842\n",
            "Epoch 49/50 - Loss: 0.3842\n",
            "Epoch 50/50 - Loss: 0.3842\n"
          ]
        },
        {
          "output_type": "display_data",
          "data": {
            "text/plain": [
              "<Figure size 640x480 with 1 Axes>"
            ],
            "image/png": "[encoded data removed]"
          },
          "metadata": {}
        }
      ]
    },
    {
      "cell_type": "code",
      "source": [],
      "metadata": {
        "id": "o7kPmWjiTNED"
      },
      "execution_count": null,
      "outputs": []
    },
    {
      "cell_type": "markdown",
      "source": [
        "# Visualization of the dataset"
      ],
      "metadata": {
        "id": "7Aa66E2xakvT"
      }
    },
    {
      "cell_type": "code",
      "source": [
        "import numpy as np\n",
        "import matplotlib.pyplot as plt\n",
        "from sklearn.manifold import TSNE\n",
        "from sklearn.preprocessing import LabelEncoder\n",
        "\n",
        "# Load the embeddings and labels\n",
        "embeddings = np.load('/content/drive/MyDrive/My_embeddings.npy')\n",
        "labels = np.load('/content/drive/MyDrive/My_labels.npy')\n",
        "\n",
        "# Encode string labels to numeric values\n",
        "label_encoder = LabelEncoder()\n",
        "encoded_labels = label_encoder.fit_transform(labels)\n",
        "\n",
        "# Reduce dimensionality to 2D using t-SNE\n",
        "tsne = TSNE(n_components=2, perplexity=10, random_state=42)  # Adjust perplexity based on dataset size\n",
        "embeddings_2d = tsne.fit_transform(embeddings)\n",
        "\n",
        "# Plot the embeddings\n",
        "plt.figure(figsize=(10, 8))\n",
        "scatter = plt.scatter(embeddings_2d[:, 0], embeddings_2d[:, 1], c=encoded_labels, cmap='tab10', alpha=0.7)\n",
        "plt.colorbar(scatter, ticks=range(len(set(encoded_labels))), label=\"Person ID\")\n",
        "plt.title(\"t-SNE Visualization of Face Embeddings\")\n",
        "plt.xlabel(\"t-SNE Component 1\")\n",
        "plt.ylabel(\"t-SNE Component 2\")\n",
        "plt.show()\n"
      ],
      "metadata": {
        "id": "P0tKIOYjKthn",
        "colab": {
          "base_uri": "https://localhost:8080/",
          "height": 718
        },
        "outputId": "4dc721c1-dbf3-4755-ae51-e864aed641fa"
      },
      "execution_count": null,
      "outputs": [
        {
          "output_type": "display_data",
          "data": {
            "text/plain": [
              "<Figure size 1000x800 with 2 Axes>"
            ],
            "image/png": "[encoded data removed]"
          },
          "metadata": {}
        }
      ]
    },
    {
      "cell_type": "code",
      "source": [
        "import numpy as np\n",
        "import matplotlib.pyplot as plt\n",
        "from sklearn.decomposition import PCA\n",
        "from sklearn.preprocessing import LabelEncoder\n",
        "\n",
        "# Load the embeddings and labels\n",
        "embeddings = np.load('/content/drive/MyDrive/My_embeddings.npy')\n",
        "labels = np.load('/content/drive/MyDrive/My_labels.npy')\n",
        "\n",
        "# Encode labels numerically\n",
        "label_encoder = LabelEncoder()\n",
        "encoded_labels = label_encoder.fit_transform(labels)\n",
        "\n",
        "# Apply PCA to reduce dimensionality to 2D\n",
        "pca = PCA(n_components=2)\n",
        "embeddings_2d = pca.fit_transform(embeddings)\n",
        "\n",
        "# Plot the PCA-transformed embeddings\n",
        "plt.figure(figsize=(10, 8))\n",
        "scatter = plt.scatter(embeddings_2d[:, 0], embeddings_2d[:, 1], c=encoded_labels, cmap='tab10', alpha=0.7)\n",
        "plt.colorbar(scatter, ticks=range(len(set(encoded_labels))), label=\"Person ID\")\n",
        "plt.title(\"PCA Visualization of Face Embeddings\")\n",
        "plt.xlabel(\"Principal Component 1\")\n",
        "plt.ylabel(\"Principal Component 2\")\n",
        "plt.show()\n"
      ],
      "metadata": {
        "colab": {
          "base_uri": "https://localhost:8080/",
          "height": 718
        },
        "id": "slp0NYd4DfhC",
        "outputId": "5225538e-46ee-49e2-d4ac-ef0e698f9eb7"
      },
      "execution_count": null,
      "outputs": [
        {
          "output_type": "display_data",
          "data": {
            "text/plain": [
              "<Figure size 1000x800 with 2 Axes>"
            ],
            "image/png": "[encoded data removed]"
          },
          "metadata": {}
        }
      ]
    },
    {
      "cell_type": "code",
      "source": [
        "! pip install umap-learn\n",
        "import umap.umap_ as umap\n",
        "import umap\n",
        "import numpy as np\n",
        "import matplotlib.pyplot as plt\n",
        "from sklearn.preprocessing import LabelEncoder\n",
        "\n",
        "# Load embeddings and labels\n",
        "embeddings = np.load('/content/drive/MyDrive/My_embeddings.npy')\n",
        "labels = np.load('/content/drive/MyDrive/My_labels.npy')\n",
        "\n",
        "# Encode labels numerically\n",
        "label_encoder = LabelEncoder()\n",
        "encoded_labels = label_encoder.fit_transform(labels)\n",
        "\n",
        "# Apply UMAP for dimensionality reduction\n",
        "umap_reducer = umap.UMAP(n_components=2, random_state=42)\n",
        "embeddings_2d = umap_reducer.fit_transform(embeddings)\n",
        "\n",
        "# Plot the UMAP-transformed embeddings\n",
        "plt.figure(figsize=(10, 8))\n",
        "scatter = plt.scatter(embeddings_2d[:, 0], embeddings_2d[:, 1], c=encoded_labels, cmap='tab10', alpha=0.7)\n",
        "plt.colorbar(scatter, ticks=range(len(set(encoded_labels))), label=\"Person ID\")\n",
        "plt.title(\"UMAP Visualization of Face Embeddings\")\n",
        "plt.xlabel(\"UMAP Component 1\")\n",
        "plt.ylabel(\"UMAP Component 2\")\n",
        "plt.show()\n"
      ],
      "metadata": {
        "colab": {
          "base_uri": "https://localhost:8080/",
          "height": 1000
        },
        "id": "U_q1e_AEDfdg",
        "outputId": "e15562dd-2c52-43da-9e6a-10630e5b9965"
      },
      "execution_count": null,
      "outputs": [
        {
          "output_type": "stream",
          "name": "stdout",
          "text": [
            "Collecting umap-learn\n",
            "  Downloading umap_learn-0.5.7-py3-none-any.whl.metadata (21 kB)\n",
            "Requirement already satisfied: numpy>=1.17 in /usr/local/lib/python3.11/dist-packages (from umap-learn) (1.26.4)\n",
            "Requirement already satisfied: scipy>=1.3.1 in /usr/local/lib/python3.11/dist-packages (from umap-learn) (1.13.1)\n",
            "Requirement already satisfied: scikit-learn>=0.22 in /usr/local/lib/python3.11/dist-packages (from umap-learn) (1.6.1)\n",
            "Requirement already satisfied: numba>=0.51.2 in /usr/local/lib/python3.11/dist-packages (from umap-learn) (0.61.0)\n",
            "Collecting pynndescent>=0.5 (from umap-learn)\n",
            "  Downloading pynndescent-0.5.13-py3-none-any.whl.metadata (6.8 kB)\n",
            "Requirement already satisfied: tqdm in /usr/local/lib/python3.11/dist-packages (from umap-learn) (4.67.1)\n",
            "Requirement already satisfied: llvmlite<0.45,>=0.44.0dev0 in /usr/local/lib/python3.11/dist-packages (from numba>=0.51.2->umap-learn) (0.44.0)\n",
            "Requirement already satisfied: joblib>=0.11 in /usr/local/lib/python3.11/dist-packages (from pynndescent>=0.5->umap-learn) (1.4.2)\n",
            "Requirement already satisfied: threadpoolctl>=3.1.0 in /usr/local/lib/python3.11/dist-packages (from scikit-learn>=0.22->umap-learn) (3.5.0)\n",
            "Downloading umap_learn-0.5.7-py3-none-any.whl (88 kB)\n",
            "\u001b[2K   \u001b[90m━━━━━━━━━━━━━━━━━━━━━━━━━━━━━━━━━━━━━━━━\u001b[0m \u001b[32m88.8/88.8 kB\u001b[0m \u001b[31m6.9 MB/s\u001b[0m eta \u001b[36m0:00:00\u001b[0m\n",
            "\u001b[?25hDownloading pynndescent-0.5.13-py3-none-any.whl (56 kB)\n",
            "\u001b[2K   \u001b[90m━━━━━━━━━━━━━━━━━━━━━━━━━━━━━━━━━━━━━━━━\u001b[0m \u001b[32m56.9/56.9 kB\u001b[0m \u001b[31m4.0 MB/s\u001b[0m eta \u001b[36m0:00:00\u001b[0m\n",
            "\u001b[?25hInstalling collected packages: pynndescent, umap-learn\n",
            "Successfully installed pynndescent-0.5.13 umap-learn-0.5.7\n"
          ]
        },
        {
          "output_type": "stream",
          "name": "stderr",
          "text": [
            "/usr/local/lib/python3.11/dist-packages/sklearn/utils/deprecation.py:151: FutureWarning: 'force_all_finite' was renamed to 'ensure_all_finite' in 1.6 and will be removed in 1.8.\n",
            "  warnings.warn(\n",
            "/usr/local/lib/python3.11/dist-packages/umap/umap_.py:1952: UserWarning: n_jobs value 1 overridden to 1 by setting random_state. Use no seed for parallelism.\n",
            "  warn(\n"
          ]
        },
        {
          "output_type": "display_data",
          "data": {
            "text/plain": [
              "<Figure size 1000x800 with 2 Axes>"
            ],
            "image/png": "[encoded data removed]"
          },
          "metadata": {}
        }
      ]
    },
    {
      "cell_type": "code",
      "source": [],
      "metadata": {
        "id": "131GveP-bmoj"
      },
      "execution_count": null,
      "outputs": []
    },
    {
      "cell_type": "markdown",
      "source": [
        "# Visualization in real time\n"
      ],
      "metadata": {
        "id": "VVSs2ZPvbpc3"
      }
    },
    {
      "cell_type": "code",
      "source": [
        "!pip install tensorboard"
      ],
      "metadata": {
        "colab": {
          "base_uri": "https://localhost:8080/"
        },
        "id": "_y8UHlfvb2h6",
        "outputId": "28e81f7b-e082-4b7e-e09a-09088214db74"
      },
      "execution_count": null,
      "outputs": [
        {
          "output_type": "stream",
          "name": "stdout",
          "text": [
            "Requirement already satisfied: tensorboard in /usr/local/lib/python3.11/dist-packages (2.18.0)\n",
            "Requirement already satisfied: absl-py>=0.4 in /usr/local/lib/python3.11/dist-packages (from tensorboard) (1.4.0)\n",
            "Requirement already satisfied: grpcio>=1.48.2 in /usr/local/lib/python3.11/dist-packages (from tensorboard) (1.71.0)\n",
            "Requirement already satisfied: markdown>=2.6.8 in /usr/local/lib/python3.11/dist-packages (from tensorboard) (3.7)\n",
            "Requirement already satisfied: numpy>=1.12.0 in /usr/local/lib/python3.11/dist-packages (from tensorboard) (2.0.2)\n",
            "Requirement already satisfied: packaging in /usr/local/lib/python3.11/dist-packages (from tensorboard) (24.2)\n",
            "Requirement already satisfied: protobuf!=4.24.0,>=3.19.6 in /usr/local/lib/python3.11/dist-packages (from tensorboard) (4.25.6)\n",
            "Requirement already satisfied: setuptools>=41.0.0 in /usr/local/lib/python3.11/dist-packages (from tensorboard) (75.1.0)\n",
            "Requirement already satisfied: six>1.9 in /usr/local/lib/python3.11/dist-packages (from tensorboard) (1.17.0)\n",
            "Requirement already satisfied: tensorboard-data-server<0.8.0,>=0.7.0 in /usr/local/lib/python3.11/dist-packages (from tensorboard) (0.7.2)\n",
            "Requirement already satisfied: werkzeug>=1.0.1 in /usr/local/lib/python3.11/dist-packages (from tensorboard) (3.1.3)\n",
            "Requirement already satisfied: MarkupSafe>=2.1.1 in /usr/local/lib/python3.11/dist-packages (from werkzeug>=1.0.1->tensorboard) (3.0.2)\n"
          ]
        }
      ]
    },
    {
      "cell_type": "code",
      "source": [
        "from torch.utils.tensorboard import SummaryWriter\n",
        "\n",
        "writer = SummaryWriter(\"runs/triplet_loss_training\")  # Create a TensorBoard log directory\n",
        "\n",
        "for epoch in range(num_epochs):\n",
        "    total_loss = 0\n",
        "    for anchor_embeddings, positive_embeddings, negative_embeddings in dataloader:\n",
        "        optimizer.zero_grad()\n",
        "        loss = triplet_loss(anchor_embeddings, positive_embeddings, negative_embeddings)\n",
        "        loss.backward()\n",
        "        optimizer.step()\n",
        "        total_loss += loss.item()\n",
        "\n",
        "    avg_loss = total_loss / len(dataloader)\n",
        "    writer.add_scalar(\"Loss/train\", avg_loss, epoch)  # Log loss to TensorBoard\n",
        "    print(f\"Epoch [{epoch+1}/{num_epochs}], Loss: {avg_loss}\")\n",
        "\n",
        "writer.close()\n"
      ],
      "metadata": {
        "id": "4Bi7Bx-_b8Is"
      },
      "execution_count": null,
      "outputs": []
    }
  ]
}